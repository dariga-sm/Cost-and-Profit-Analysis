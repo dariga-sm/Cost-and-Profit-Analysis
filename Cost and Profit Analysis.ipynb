{
 "cells": [
  {
   "cell_type": "markdown",
   "id": "5577d2f4",
   "metadata": {},
   "source": [
    "# Food Delivery Cost and Profitability Analysis\n",
    "Dataset is taken from https://statso.io/optimizing-cost-and-profitability-case-study/"
   ]
  },
  {
   "cell_type": "markdown",
   "id": "de93abd1",
   "metadata": {},
   "source": [
    "A food delivery service is facing challenges in achieving profitability across its operations. With a dataset of 1,000 food orders, the service seeks to understand the dynamics of its cost structure and profitability to identify strategic opportunities for improvement.\n",
    "\n",
    "Your task is to conduct:\n",
    "\n",
    "- Detailed Cost Analysis: Identifying the major cost components associated with delivering food orders, including direct costs like delivery fees and indirect costs like discounts and payment processing fees.\n",
    "\n",
    "\n",
    "- Profitability Evaluation: Calculating the profitability of individual orders and aggregating this data to assess overall profitability. This involves examining how revenue generated from commission fees measures against the total costs.\n",
    "\n",
    "\n",
    "- Strategic Recommendations for Improvement: Based on the cost and profitability analysis, identifying actionable strategies to reduce costs, adjust pricing, commission fees, and discount strategies to improve profitability. This includes finding a “sweet spot” for commission and discount percentages that ensures profitability across orders.\n",
    "\n",
    "\n",
    "- Impact Simulation of Proposed Strategies: Simulating the financial impact of the recommended strategies on profitability, using the dataset to forecast how adjustments in commission rates and discount strategies could potentially transform current losses into profits"
   ]
  },
  {
   "cell_type": "code",
   "execution_count": 161,
   "id": "1887630b",
   "metadata": {},
   "outputs": [],
   "source": [
    "#Importing libraries\n",
    "import pandas as pd\n",
    "import numpy as np\n",
    "import matplotlib.pyplot as plt"
   ]
  },
  {
   "cell_type": "code",
   "execution_count": 162,
   "id": "ef31f86c",
   "metadata": {},
   "outputs": [
    {
     "data": {
      "text/html": [
       "<div>\n",
       "<style scoped>\n",
       "    .dataframe tbody tr th:only-of-type {\n",
       "        vertical-align: middle;\n",
       "    }\n",
       "\n",
       "    .dataframe tbody tr th {\n",
       "        vertical-align: top;\n",
       "    }\n",
       "\n",
       "    .dataframe thead th {\n",
       "        text-align: right;\n",
       "    }\n",
       "</style>\n",
       "<table border=\"1\" class=\"dataframe\">\n",
       "  <thead>\n",
       "    <tr style=\"text-align: right;\">\n",
       "      <th></th>\n",
       "      <th>Order ID</th>\n",
       "      <th>Customer ID</th>\n",
       "      <th>Restaurant ID</th>\n",
       "      <th>Order Date and Time</th>\n",
       "      <th>Delivery Date and Time</th>\n",
       "      <th>Order Value</th>\n",
       "      <th>Delivery Fee</th>\n",
       "      <th>Payment Method</th>\n",
       "      <th>Discounts and Offers</th>\n",
       "      <th>Commission Fee</th>\n",
       "      <th>Payment Processing Fee</th>\n",
       "      <th>Refunds/Chargebacks</th>\n",
       "    </tr>\n",
       "  </thead>\n",
       "  <tbody>\n",
       "    <tr>\n",
       "      <th>0</th>\n",
       "      <td>1</td>\n",
       "      <td>C8270</td>\n",
       "      <td>R2924</td>\n",
       "      <td>2024-02-01 01:11:52</td>\n",
       "      <td>2024-02-01 02:39:52</td>\n",
       "      <td>1914</td>\n",
       "      <td>0</td>\n",
       "      <td>Credit Card</td>\n",
       "      <td>5% on App</td>\n",
       "      <td>150</td>\n",
       "      <td>47</td>\n",
       "      <td>0</td>\n",
       "    </tr>\n",
       "    <tr>\n",
       "      <th>1</th>\n",
       "      <td>2</td>\n",
       "      <td>C1860</td>\n",
       "      <td>R2054</td>\n",
       "      <td>2024-02-02 22:11:04</td>\n",
       "      <td>2024-02-02 22:46:04</td>\n",
       "      <td>986</td>\n",
       "      <td>40</td>\n",
       "      <td>Digital Wallet</td>\n",
       "      <td>10%</td>\n",
       "      <td>198</td>\n",
       "      <td>23</td>\n",
       "      <td>0</td>\n",
       "    </tr>\n",
       "    <tr>\n",
       "      <th>2</th>\n",
       "      <td>3</td>\n",
       "      <td>C6390</td>\n",
       "      <td>R2870</td>\n",
       "      <td>2024-01-31 05:54:35</td>\n",
       "      <td>2024-01-31 06:52:35</td>\n",
       "      <td>937</td>\n",
       "      <td>30</td>\n",
       "      <td>Cash on Delivery</td>\n",
       "      <td>15% New User</td>\n",
       "      <td>195</td>\n",
       "      <td>45</td>\n",
       "      <td>0</td>\n",
       "    </tr>\n",
       "    <tr>\n",
       "      <th>3</th>\n",
       "      <td>4</td>\n",
       "      <td>C6191</td>\n",
       "      <td>R2642</td>\n",
       "      <td>2024-01-16 22:52:49</td>\n",
       "      <td>2024-01-16 23:38:49</td>\n",
       "      <td>1463</td>\n",
       "      <td>50</td>\n",
       "      <td>Cash on Delivery</td>\n",
       "      <td>None</td>\n",
       "      <td>146</td>\n",
       "      <td>27</td>\n",
       "      <td>0</td>\n",
       "    </tr>\n",
       "    <tr>\n",
       "      <th>4</th>\n",
       "      <td>5</td>\n",
       "      <td>C6734</td>\n",
       "      <td>R2799</td>\n",
       "      <td>2024-01-29 01:19:30</td>\n",
       "      <td>2024-01-29 02:48:30</td>\n",
       "      <td>1992</td>\n",
       "      <td>30</td>\n",
       "      <td>Cash on Delivery</td>\n",
       "      <td>50 off Promo</td>\n",
       "      <td>130</td>\n",
       "      <td>50</td>\n",
       "      <td>0</td>\n",
       "    </tr>\n",
       "  </tbody>\n",
       "</table>\n",
       "</div>"
      ],
      "text/plain": [
       "   Order ID Customer ID Restaurant ID  Order Date and Time  \\\n",
       "0         1       C8270         R2924  2024-02-01 01:11:52   \n",
       "1         2       C1860         R2054  2024-02-02 22:11:04   \n",
       "2         3       C6390         R2870  2024-01-31 05:54:35   \n",
       "3         4       C6191         R2642  2024-01-16 22:52:49   \n",
       "4         5       C6734         R2799  2024-01-29 01:19:30   \n",
       "\n",
       "  Delivery Date and Time  Order Value  Delivery Fee    Payment Method  \\\n",
       "0    2024-02-01 02:39:52         1914             0       Credit Card   \n",
       "1    2024-02-02 22:46:04          986            40    Digital Wallet   \n",
       "2    2024-01-31 06:52:35          937            30  Cash on Delivery   \n",
       "3    2024-01-16 23:38:49         1463            50  Cash on Delivery   \n",
       "4    2024-01-29 02:48:30         1992            30  Cash on Delivery   \n",
       "\n",
       "  Discounts and Offers  Commission Fee  Payment Processing Fee  \\\n",
       "0            5% on App             150                      47   \n",
       "1                  10%             198                      23   \n",
       "2         15% New User             195                      45   \n",
       "3                 None             146                      27   \n",
       "4         50 off Promo             130                      50   \n",
       "\n",
       "   Refunds/Chargebacks  \n",
       "0                    0  \n",
       "1                    0  \n",
       "2                    0  \n",
       "3                    0  \n",
       "4                    0  "
      ]
     },
     "execution_count": 162,
     "metadata": {},
     "output_type": "execute_result"
    }
   ],
   "source": [
    "#Upload dataset\n",
    "df=pd.read_csv('food_orders_new_delhi.csv')\n",
    "df.head()"
   ]
  },
  {
   "cell_type": "code",
   "execution_count": 163,
   "id": "c11cdbf2",
   "metadata": {},
   "outputs": [
    {
     "name": "stdout",
     "output_type": "stream",
     "text": [
      "<class 'pandas.core.frame.DataFrame'>\n",
      "RangeIndex: 1000 entries, 0 to 999\n",
      "Data columns (total 12 columns):\n",
      " #   Column                  Non-Null Count  Dtype \n",
      "---  ------                  --------------  ----- \n",
      " 0   Order ID                1000 non-null   int64 \n",
      " 1   Customer ID             1000 non-null   object\n",
      " 2   Restaurant ID           1000 non-null   object\n",
      " 3   Order Date and Time     1000 non-null   object\n",
      " 4   Delivery Date and Time  1000 non-null   object\n",
      " 5   Order Value             1000 non-null   int64 \n",
      " 6   Delivery Fee            1000 non-null   int64 \n",
      " 7   Payment Method          1000 non-null   object\n",
      " 8   Discounts and Offers    1000 non-null   object\n",
      " 9   Commission Fee          1000 non-null   int64 \n",
      " 10  Payment Processing Fee  1000 non-null   int64 \n",
      " 11  Refunds/Chargebacks     1000 non-null   int64 \n",
      "dtypes: int64(6), object(6)\n",
      "memory usage: 93.9+ KB\n"
     ]
    }
   ],
   "source": [
    "df.info()"
   ]
  },
  {
   "cell_type": "markdown",
   "id": "3cb72533",
   "metadata": {},
   "source": [
    "The dataset contains 1,000 entries and 12 columns, all of which are complete with no missing values. Our focus now shifts to data refinement. Key tasks include converting \"Order Date and Time\" and \"Delivery Date and Time\" to a datetime format, ensuring consistency in the representation of \"Discounts and Offers\", and confirming that all monetary values are formatted appropriately for precise calculations.\n"
   ]
  },
  {
   "cell_type": "code",
   "execution_count": 164,
   "id": "f54e3abd",
   "metadata": {},
   "outputs": [],
   "source": [
    "#Convert “Order Date and Time” and “Delivery Date and Time” to a datetime format.\n",
    "df['Order Date and Time']=pd.to_datetime(df['Order Date and Time'])\n",
    "df['Delivery Date and Time']=pd.to_datetime(df['Delivery Date and Time'])"
   ]
  },
  {
   "cell_type": "code",
   "execution_count": 165,
   "id": "8cc3d2ac",
   "metadata": {},
   "outputs": [
    {
     "data": {
      "text/plain": [
       "array(['5% on App', '10%', '15% New User', 'None', '50 off Promo'],\n",
       "      dtype=object)"
      ]
     },
     "execution_count": 165,
     "metadata": {},
     "output_type": "execute_result"
    }
   ],
   "source": [
    "#Exploring “Discounts and Offers” \n",
    "df['Discounts and Offers'].unique()"
   ]
  },
  {
   "cell_type": "code",
   "execution_count": 166,
   "id": "2bc03cf4",
   "metadata": {},
   "outputs": [],
   "source": [
    "#Extracting numeric values out of Discount and Offers column\n",
    "def extract_deal(text):\n",
    "    # Define the delimiters to check for\n",
    "    delimiters = ['%', 'off']\n",
    "    \n",
    "    # Loop through each delimiter and check if it's in the text\n",
    "    for delimiter in delimiters:\n",
    "        if delimiter in text:\n",
    "            # Find the index of the delimiter\n",
    "            index = text.find(delimiter)\n",
    "            # Extract the substring before the delimiter and remove spaces\n",
    "            return float(text[:index].replace(' ', ''))\n",
    "    \n",
    "    # Return an empty string if no delimiters are found\n",
    "    return None\n",
    "\n",
    "#Applying function\n",
    "df['Discount Percentage']=df['Discounts and Offers'].apply(extract_deal)"
   ]
  },
  {
   "cell_type": "markdown",
   "id": "efa8aace",
   "metadata": {},
   "source": [
    "## Cost and Profitability Analysis\n",
    "#### Adding necessary columns for analysis\n",
    "In conducting a comprehensive Cost and Profit analysis, our primary focus lies in computing both cost and profit. This can be achieved by understanding that the platform's revenue predominantly originates from the Commission Fee. Cost encompasses the summation of various expenses, including delivery fees, payment processing fees, and discounts provided. Net profit, on the other hand, is derived by subtracting the total costs from the revenue."
   ]
  },
  {
   "cell_type": "code",
   "execution_count": 169,
   "id": "383701f2",
   "metadata": {},
   "outputs": [],
   "source": [
    "# Calculate the discount amount based on the order value (If None, amount is 0)\n",
    "df['Discount Amount'] = df.apply(lambda x: (x['Order Value'] * x['Discount Percentage'] / 100)\n",
    "                                                   if pd.notnull(x['Discount Percentage'])\n",
    "                                                   else 0, axis=1)"
   ]
  },
  {
   "cell_type": "code",
   "execution_count": 172,
   "id": "7ad59d20",
   "metadata": {},
   "outputs": [],
   "source": [
    "# Calculate total costs \n",
    "df['Total Cost']=df['Delivery Fee']+df['Payment Processing Fee']+df['Discount Amount']\n",
    "# Calculate Revenue\n",
    "df['Revenue']=df['Commission Fee']\n",
    "# Calculate Profit\n",
    "df['Profit']=df['Revenue']-df['Total Cost']"
   ]
  },
  {
   "cell_type": "code",
   "execution_count": 173,
   "id": "3adb2bea",
   "metadata": {},
   "outputs": [
    {
     "data": {
      "text/html": [
       "<div>\n",
       "<style scoped>\n",
       "    .dataframe tbody tr th:only-of-type {\n",
       "        vertical-align: middle;\n",
       "    }\n",
       "\n",
       "    .dataframe tbody tr th {\n",
       "        vertical-align: top;\n",
       "    }\n",
       "\n",
       "    .dataframe thead th {\n",
       "        text-align: right;\n",
       "    }\n",
       "</style>\n",
       "<table border=\"1\" class=\"dataframe\">\n",
       "  <thead>\n",
       "    <tr style=\"text-align: right;\">\n",
       "      <th></th>\n",
       "      <th>Order ID</th>\n",
       "      <th>Customer ID</th>\n",
       "      <th>Restaurant ID</th>\n",
       "      <th>Order Date and Time</th>\n",
       "      <th>Delivery Date and Time</th>\n",
       "      <th>Order Value</th>\n",
       "      <th>Delivery Fee</th>\n",
       "      <th>Payment Method</th>\n",
       "      <th>Discounts and Offers</th>\n",
       "      <th>Commission Fee</th>\n",
       "      <th>Payment Processing Fee</th>\n",
       "      <th>Refunds/Chargebacks</th>\n",
       "      <th>Discount Percentage</th>\n",
       "      <th>Discount Amount</th>\n",
       "      <th>Total Cost</th>\n",
       "      <th>Revenue</th>\n",
       "      <th>Profit</th>\n",
       "    </tr>\n",
       "  </thead>\n",
       "  <tbody>\n",
       "    <tr>\n",
       "      <th>0</th>\n",
       "      <td>1</td>\n",
       "      <td>C8270</td>\n",
       "      <td>R2924</td>\n",
       "      <td>2024-02-01 01:11:52</td>\n",
       "      <td>2024-02-01 02:39:52</td>\n",
       "      <td>1914</td>\n",
       "      <td>0</td>\n",
       "      <td>Credit Card</td>\n",
       "      <td>5% on App</td>\n",
       "      <td>150</td>\n",
       "      <td>47</td>\n",
       "      <td>0</td>\n",
       "      <td>5.0</td>\n",
       "      <td>95.70</td>\n",
       "      <td>142.70</td>\n",
       "      <td>150</td>\n",
       "      <td>7.30</td>\n",
       "    </tr>\n",
       "    <tr>\n",
       "      <th>1</th>\n",
       "      <td>2</td>\n",
       "      <td>C1860</td>\n",
       "      <td>R2054</td>\n",
       "      <td>2024-02-02 22:11:04</td>\n",
       "      <td>2024-02-02 22:46:04</td>\n",
       "      <td>986</td>\n",
       "      <td>40</td>\n",
       "      <td>Digital Wallet</td>\n",
       "      <td>10%</td>\n",
       "      <td>198</td>\n",
       "      <td>23</td>\n",
       "      <td>0</td>\n",
       "      <td>10.0</td>\n",
       "      <td>98.60</td>\n",
       "      <td>161.60</td>\n",
       "      <td>198</td>\n",
       "      <td>36.40</td>\n",
       "    </tr>\n",
       "    <tr>\n",
       "      <th>2</th>\n",
       "      <td>3</td>\n",
       "      <td>C6390</td>\n",
       "      <td>R2870</td>\n",
       "      <td>2024-01-31 05:54:35</td>\n",
       "      <td>2024-01-31 06:52:35</td>\n",
       "      <td>937</td>\n",
       "      <td>30</td>\n",
       "      <td>Cash on Delivery</td>\n",
       "      <td>15% New User</td>\n",
       "      <td>195</td>\n",
       "      <td>45</td>\n",
       "      <td>0</td>\n",
       "      <td>15.0</td>\n",
       "      <td>140.55</td>\n",
       "      <td>215.55</td>\n",
       "      <td>195</td>\n",
       "      <td>-20.55</td>\n",
       "    </tr>\n",
       "    <tr>\n",
       "      <th>3</th>\n",
       "      <td>4</td>\n",
       "      <td>C6191</td>\n",
       "      <td>R2642</td>\n",
       "      <td>2024-01-16 22:52:49</td>\n",
       "      <td>2024-01-16 23:38:49</td>\n",
       "      <td>1463</td>\n",
       "      <td>50</td>\n",
       "      <td>Cash on Delivery</td>\n",
       "      <td>None</td>\n",
       "      <td>146</td>\n",
       "      <td>27</td>\n",
       "      <td>0</td>\n",
       "      <td>NaN</td>\n",
       "      <td>0.00</td>\n",
       "      <td>77.00</td>\n",
       "      <td>146</td>\n",
       "      <td>69.00</td>\n",
       "    </tr>\n",
       "    <tr>\n",
       "      <th>4</th>\n",
       "      <td>5</td>\n",
       "      <td>C6734</td>\n",
       "      <td>R2799</td>\n",
       "      <td>2024-01-29 01:19:30</td>\n",
       "      <td>2024-01-29 02:48:30</td>\n",
       "      <td>1992</td>\n",
       "      <td>30</td>\n",
       "      <td>Cash on Delivery</td>\n",
       "      <td>50 off Promo</td>\n",
       "      <td>130</td>\n",
       "      <td>50</td>\n",
       "      <td>0</td>\n",
       "      <td>50.0</td>\n",
       "      <td>996.00</td>\n",
       "      <td>1076.00</td>\n",
       "      <td>130</td>\n",
       "      <td>-946.00</td>\n",
       "    </tr>\n",
       "  </tbody>\n",
       "</table>\n",
       "</div>"
      ],
      "text/plain": [
       "   Order ID Customer ID Restaurant ID Order Date and Time  \\\n",
       "0         1       C8270         R2924 2024-02-01 01:11:52   \n",
       "1         2       C1860         R2054 2024-02-02 22:11:04   \n",
       "2         3       C6390         R2870 2024-01-31 05:54:35   \n",
       "3         4       C6191         R2642 2024-01-16 22:52:49   \n",
       "4         5       C6734         R2799 2024-01-29 01:19:30   \n",
       "\n",
       "  Delivery Date and Time  Order Value  Delivery Fee    Payment Method  \\\n",
       "0    2024-02-01 02:39:52         1914             0       Credit Card   \n",
       "1    2024-02-02 22:46:04          986            40    Digital Wallet   \n",
       "2    2024-01-31 06:52:35          937            30  Cash on Delivery   \n",
       "3    2024-01-16 23:38:49         1463            50  Cash on Delivery   \n",
       "4    2024-01-29 02:48:30         1992            30  Cash on Delivery   \n",
       "\n",
       "  Discounts and Offers  Commission Fee  Payment Processing Fee  \\\n",
       "0            5% on App             150                      47   \n",
       "1                  10%             198                      23   \n",
       "2         15% New User             195                      45   \n",
       "3                 None             146                      27   \n",
       "4         50 off Promo             130                      50   \n",
       "\n",
       "   Refunds/Chargebacks  Discount Percentage  Discount Amount  Total Cost  \\\n",
       "0                    0                  5.0            95.70      142.70   \n",
       "1                    0                 10.0            98.60      161.60   \n",
       "2                    0                 15.0           140.55      215.55   \n",
       "3                    0                  NaN             0.00       77.00   \n",
       "4                    0                 50.0           996.00     1076.00   \n",
       "\n",
       "   Revenue  Profit  \n",
       "0      150    7.30  \n",
       "1      198   36.40  \n",
       "2      195  -20.55  \n",
       "3      146   69.00  \n",
       "4      130 -946.00  "
      ]
     },
     "execution_count": 173,
     "metadata": {},
     "output_type": "execute_result"
    }
   ],
   "source": [
    "df.head()"
   ]
  },
  {
   "cell_type": "code",
   "execution_count": 174,
   "id": "65b0f604",
   "metadata": {},
   "outputs": [
    {
     "data": {
      "text/plain": [
       "{'Total Orders': 1000,\n",
       " 'Total Cost': 232709.85,\n",
       " 'Total Revenue': 126990,\n",
       " 'Total Profit': -105719.85}"
      ]
     },
     "execution_count": 174,
     "metadata": {},
     "output_type": "execute_result"
    }
   ],
   "source": [
    "# See metrics\n",
    "total_cost=df['Total Cost'].sum()\n",
    "revenue=df['Revenue'].sum()\n",
    "profit=df['Profit'].sum()\n",
    "num_orders=df.shape[0]\n",
    "\n",
    "overall_metrics = {\n",
    "    \"Total Orders\": num_orders,\n",
    "    \"Total Cost\": total_cost,\n",
    "    \"Total Revenue\": revenue,\n",
    "    \"Total Profit\": profit}\n",
    "\n",
    "overall_metrics"
   ]
  },
  {
   "cell_type": "markdown",
   "id": "e1dec74c",
   "metadata": {},
   "source": [
    "The analysis shows that the expenses for food delivery outweigh the earnings from commission fees, resulting in a loss. This suggests that the current commission rates, delivery fees, and discount strategies are not profitable.\n",
    "\n",
    "Let's visualize results."
   ]
  },
  {
   "cell_type": "code",
   "execution_count": 188,
   "id": "f311480b",
   "metadata": {},
   "outputs": [
    {
     "data": {
      "image/png": "[encoded data removed]",
      "text/plain": [
       "<Figure size 720x432 with 1 Axes>"
      ]
     },
     "metadata": {
      "needs_background": "light"
     },
     "output_type": "display_data"
    }
   ],
   "source": [
    "# Profits per order\n",
    "plt.figure(figsize=(10, 6))\n",
    "plt.hist(df['Profit'], edgecolor='black')\n",
    "plt.title('Profit Distribution per Order in Food Delivery')\n",
    "plt.xlabel('Profit')\n",
    "plt.ylabel('Number of Orders')\n",
    "plt.axvline(df['Profit'].mean(), color='red', linestyle='dashed', linewidth=1, label=f'Avg Profit: {df[\"Profit\"].mean():.2f}')\n",
    "plt.legend()\n",
    "\n",
    "plt.show()"
   ]
  },
  {
   "cell_type": "markdown",
   "id": "eaa6e4bb",
   "metadata": {},
   "source": [
    "The histogram shows a wide distribution of profit per order, with a noticeable number of orders resulting in a loss. The red dashed line indicates the average profit, which is in the negative part, highlighting the overall loss incurred\n",
    "\n",
    "Now, let’s have a look at the proportion of total costs:"
   ]
  },
  {
   "cell_type": "code",
   "execution_count": 176,
   "id": "8f83b708",
   "metadata": {},
   "outputs": [
    {
     "data": {
      "image/png": "[encoded data removed]",
      "text/plain": [
       "<Figure size 504x504 with 1 Axes>"
      ]
     },
     "metadata": {},
     "output_type": "display_data"
    }
   ],
   "source": [
    "# The proportion of total costs\n",
    "costs_breakdown = df[['Delivery Fee', 'Payment Processing Fee', 'Discount Amount']].sum()\n",
    "plt.figure(figsize=(7, 7))\n",
    "plt.pie(costs_breakdown, labels=costs_breakdown.index, autopct='%1.1f%%', startangle=140, colors=['tomato', 'gold', 'lightblue'])\n",
    "plt.title('Proportion of Total Costs in Food Delivery')\n",
    "plt.show()"
   ]
  },
  {
   "cell_type": "markdown",
   "id": "dfceac33",
   "metadata": {},
   "source": [
    "The pie chart provides a visual breakdown of total costs, categorizing them into delivery fees, payment processing fees, and discount amounts. Notably, discounts represent a substantial share of the costs, indicating that promotional strategies may significantly impact overall profitability.\n",
    "\n",
    "Next, let's compare total revenue, total costs, and total profit (or net loss) to gain further insights."
   ]
  },
  {
   "cell_type": "code",
   "execution_count": 177,
   "id": "75f80fd6",
   "metadata": {},
   "outputs": [
    {
     "data": {
      "image/png": "[encoded data removed]",
      "text/plain": [
       "<Figure size 576x432 with 1 Axes>"
      ]
     },
     "metadata": {
      "needs_background": "light"
     },
     "output_type": "display_data"
    }
   ],
   "source": [
    "# Comparing of overall metrics\n",
    "totals = ['Total Revenue', 'Total Costs', 'Total Profit']\n",
    "values = [revenue, total_cost, profit]\n",
    "\n",
    "plt.figure(figsize=(8, 6))\n",
    "plt.bar(totals, values, color=['yellow', 'red', 'green'])\n",
    "plt.title('Total Revenue, Costs, and Profit')\n",
    "plt.ylabel('Amount (INR)')\n",
    "plt.show()"
   ]
  },
  {
   "cell_type": "markdown",
   "id": "6380a3b7",
   "metadata": {},
   "source": [
    "From our analysis, it's evident that discounts on food orders are leading to significant losses. To enhance profitability, we need to devise a new strategy. This entails finding an optimal balance between offering discounts and charging commissions. To achieve this, we'll delve deeper into the characteristics of profitable orders. "
   ]
  },
  {
   "cell_type": "code",
   "execution_count": 178,
   "id": "7274713c",
   "metadata": {},
   "outputs": [
    {
     "data": {
      "text/html": [
       "<div>\n",
       "<style scoped>\n",
       "    .dataframe tbody tr th:only-of-type {\n",
       "        vertical-align: middle;\n",
       "    }\n",
       "\n",
       "    .dataframe tbody tr th {\n",
       "        vertical-align: top;\n",
       "    }\n",
       "\n",
       "    .dataframe thead th {\n",
       "        text-align: right;\n",
       "    }\n",
       "</style>\n",
       "<table border=\"1\" class=\"dataframe\">\n",
       "  <thead>\n",
       "    <tr style=\"text-align: right;\">\n",
       "      <th></th>\n",
       "      <th>Order ID</th>\n",
       "      <th>Customer ID</th>\n",
       "      <th>Restaurant ID</th>\n",
       "      <th>Order Date and Time</th>\n",
       "      <th>Delivery Date and Time</th>\n",
       "      <th>Order Value</th>\n",
       "      <th>Delivery Fee</th>\n",
       "      <th>Payment Method</th>\n",
       "      <th>Discounts and Offers</th>\n",
       "      <th>Commission Fee</th>\n",
       "      <th>Payment Processing Fee</th>\n",
       "      <th>Refunds/Chargebacks</th>\n",
       "      <th>Discount Percentage</th>\n",
       "      <th>Discount Amount</th>\n",
       "      <th>Total Cost</th>\n",
       "      <th>Revenue</th>\n",
       "      <th>Profit</th>\n",
       "    </tr>\n",
       "  </thead>\n",
       "  <tbody>\n",
       "    <tr>\n",
       "      <th>0</th>\n",
       "      <td>1</td>\n",
       "      <td>C8270</td>\n",
       "      <td>R2924</td>\n",
       "      <td>2024-02-01 01:11:52</td>\n",
       "      <td>2024-02-01 02:39:52</td>\n",
       "      <td>1914</td>\n",
       "      <td>0</td>\n",
       "      <td>Credit Card</td>\n",
       "      <td>5% on App</td>\n",
       "      <td>150</td>\n",
       "      <td>47</td>\n",
       "      <td>0</td>\n",
       "      <td>5.0</td>\n",
       "      <td>95.70</td>\n",
       "      <td>142.70</td>\n",
       "      <td>150</td>\n",
       "      <td>7.30</td>\n",
       "    </tr>\n",
       "    <tr>\n",
       "      <th>1</th>\n",
       "      <td>2</td>\n",
       "      <td>C1860</td>\n",
       "      <td>R2054</td>\n",
       "      <td>2024-02-02 22:11:04</td>\n",
       "      <td>2024-02-02 22:46:04</td>\n",
       "      <td>986</td>\n",
       "      <td>40</td>\n",
       "      <td>Digital Wallet</td>\n",
       "      <td>10%</td>\n",
       "      <td>198</td>\n",
       "      <td>23</td>\n",
       "      <td>0</td>\n",
       "      <td>10.0</td>\n",
       "      <td>98.60</td>\n",
       "      <td>161.60</td>\n",
       "      <td>198</td>\n",
       "      <td>36.40</td>\n",
       "    </tr>\n",
       "    <tr>\n",
       "      <th>3</th>\n",
       "      <td>4</td>\n",
       "      <td>C6191</td>\n",
       "      <td>R2642</td>\n",
       "      <td>2024-01-16 22:52:49</td>\n",
       "      <td>2024-01-16 23:38:49</td>\n",
       "      <td>1463</td>\n",
       "      <td>50</td>\n",
       "      <td>Cash on Delivery</td>\n",
       "      <td>None</td>\n",
       "      <td>146</td>\n",
       "      <td>27</td>\n",
       "      <td>0</td>\n",
       "      <td>NaN</td>\n",
       "      <td>0.00</td>\n",
       "      <td>77.00</td>\n",
       "      <td>146</td>\n",
       "      <td>69.00</td>\n",
       "    </tr>\n",
       "    <tr>\n",
       "      <th>5</th>\n",
       "      <td>6</td>\n",
       "      <td>C7265</td>\n",
       "      <td>R2777</td>\n",
       "      <td>2024-01-25 04:36:52</td>\n",
       "      <td>2024-01-25 05:27:52</td>\n",
       "      <td>439</td>\n",
       "      <td>20</td>\n",
       "      <td>Cash on Delivery</td>\n",
       "      <td>10%</td>\n",
       "      <td>92</td>\n",
       "      <td>27</td>\n",
       "      <td>150</td>\n",
       "      <td>10.0</td>\n",
       "      <td>43.90</td>\n",
       "      <td>90.90</td>\n",
       "      <td>92</td>\n",
       "      <td>1.10</td>\n",
       "    </tr>\n",
       "    <tr>\n",
       "      <th>6</th>\n",
       "      <td>7</td>\n",
       "      <td>C1466</td>\n",
       "      <td>R2457</td>\n",
       "      <td>2024-01-12 23:55:48</td>\n",
       "      <td>2024-01-13 00:48:48</td>\n",
       "      <td>303</td>\n",
       "      <td>30</td>\n",
       "      <td>Digital Wallet</td>\n",
       "      <td>5% on App</td>\n",
       "      <td>144</td>\n",
       "      <td>12</td>\n",
       "      <td>50</td>\n",
       "      <td>5.0</td>\n",
       "      <td>15.15</td>\n",
       "      <td>57.15</td>\n",
       "      <td>144</td>\n",
       "      <td>86.85</td>\n",
       "    </tr>\n",
       "  </tbody>\n",
       "</table>\n",
       "</div>"
      ],
      "text/plain": [
       "   Order ID Customer ID Restaurant ID Order Date and Time  \\\n",
       "0         1       C8270         R2924 2024-02-01 01:11:52   \n",
       "1         2       C1860         R2054 2024-02-02 22:11:04   \n",
       "3         4       C6191         R2642 2024-01-16 22:52:49   \n",
       "5         6       C7265         R2777 2024-01-25 04:36:52   \n",
       "6         7       C1466         R2457 2024-01-12 23:55:48   \n",
       "\n",
       "  Delivery Date and Time  Order Value  Delivery Fee    Payment Method  \\\n",
       "0    2024-02-01 02:39:52         1914             0       Credit Card   \n",
       "1    2024-02-02 22:46:04          986            40    Digital Wallet   \n",
       "3    2024-01-16 23:38:49         1463            50  Cash on Delivery   \n",
       "5    2024-01-25 05:27:52          439            20  Cash on Delivery   \n",
       "6    2024-01-13 00:48:48          303            30    Digital Wallet   \n",
       "\n",
       "  Discounts and Offers  Commission Fee  Payment Processing Fee  \\\n",
       "0            5% on App             150                      47   \n",
       "1                  10%             198                      23   \n",
       "3                 None             146                      27   \n",
       "5                  10%              92                      27   \n",
       "6            5% on App             144                      12   \n",
       "\n",
       "   Refunds/Chargebacks  Discount Percentage  Discount Amount  Total Cost  \\\n",
       "0                    0                  5.0            95.70      142.70   \n",
       "1                    0                 10.0            98.60      161.60   \n",
       "3                    0                  NaN             0.00       77.00   \n",
       "5                  150                 10.0            43.90       90.90   \n",
       "6                   50                  5.0            15.15       57.15   \n",
       "\n",
       "   Revenue  Profit  \n",
       "0      150    7.30  \n",
       "1      198   36.40  \n",
       "3      146   69.00  \n",
       "5       92    1.10  \n",
       "6      144   86.85  "
      ]
     },
     "execution_count": 178,
     "metadata": {},
     "output_type": "execute_result"
    }
   ],
   "source": [
    "# Find profitable orders\n",
    "profitable=df[df.Profit>0]\n",
    "profitable.head()"
   ]
  },
  {
   "cell_type": "markdown",
   "id": "5add6da6",
   "metadata": {},
   "source": [
    "After delving into the dataset of profitable orders, our next step is to examine the mean commission and discount percentages. These metrics will provide crucial insights into the profitability of our operations and guide us in optimizing our strategies for greater financial success."
   ]
  },
  {
   "cell_type": "code",
   "execution_count": 180,
   "id": "bc41148a",
   "metadata": {},
   "outputs": [
    {
     "data": {
      "text/plain": [
       "(30.508436145149435, 5.867469879518072)"
      ]
     },
     "execution_count": 180,
     "metadata": {},
     "output_type": "execute_result"
    }
   ],
   "source": [
    "# Commission percentage\n",
    "profitable['Commission Percentage']=profitable['Commission Fee']/profitable['Order Value']*100\n",
    "\n",
    "#Avg commission\n",
    "avg_commission=profitable['Commission Percentage'].mean()\n",
    "\n",
    "#Average discount\n",
    "avg_discount=profitable['Discount Percentage'].fillna(0).mean()\n",
    "\n",
    "avg_commission,avg_discount"
   ]
  },
  {
   "cell_type": "markdown",
   "id": "a3d413b3",
   "metadata": {},
   "source": [
    "Based on the analysis of profitable orders, we find a new set of averages that could represent an optimal combination for commission and discount percentages:\n",
    "- New Average Commission Percentage: 30.51%\n",
    "- New Average Discount Percentage: 5.87%\n",
    "\n",
    "While the previous strategy included Average Commission Percentage of 19.75% and Average Discount Percentage of 16.26%"
   ]
  },
  {
   "cell_type": "code",
   "execution_count": 181,
   "id": "0ab8a127",
   "metadata": {},
   "outputs": [
    {
     "data": {
      "text/plain": [
       "(19.750890168545332, 16.265)"
      ]
     },
     "execution_count": 181,
     "metadata": {},
     "output_type": "execute_result"
    }
   ],
   "source": [
    "# Commission percentage\n",
    "df['Commission Percentage']=df['Commission Fee']/df['Order Value']*100\n",
    "#Avg commission\n",
    "ALLavg_commission=df['Commission Percentage'].mean()\n",
    "#Average discount\n",
    "ALLavg_discount=df['Discount Percentage'].fillna(0).mean()\n",
    "\n",
    "ALLavg_commission,ALLavg_discount"
   ]
  },
  {
   "cell_type": "markdown",
   "id": "f4748311",
   "metadata": {},
   "source": [
    "The analysis reveals that the average commission percentage for profitable orders surpasses the overall average across all orders, implying that a higher commission rate may play a crucial role in achieving profitability. Conversely, the average discount percentage for profitable orders is notably lower than the overall average, suggesting that reducing discounts could enhance profitability without significantly impacting order volume.\n",
    "\n",
    "Considering these findings, a strategy focusing on a commission rate around 30% and a discount rate approximately 6% could potentially bolster profitability across the entire spectrum of orders.\n",
    "\n",
    "\n",
    "Now, let’s visualize a comparison of profitability using actual versus recommended discounts and commissions across all orders. This comparison will help illustrate the potential impact of adopting the recommended discount and commission rates on the overall profitability of orders. \n",
    "\n",
    "#### Simulate profitability per order using the recommended discounts (6%) and commissions (30%) to see the potential impact on profitability."
   ]
  },
  {
   "cell_type": "code",
   "execution_count": 182,
   "id": "ff847d92",
   "metadata": {},
   "outputs": [],
   "source": [
    "#Changing Commission and Discount amount\n",
    "df['Simulated Commission Fee'] = df['Order Value'] * (30 / 100)\n",
    "df['Simulated Discount Amount'] = df['Order Value'] * (6 / 100)\n",
    "\n",
    "#Recalculating total costs and profit with simulated values\n",
    "df['Simulated Total Costs'] = (df['Delivery Fee'] +\n",
    "                                        df['Payment Processing Fee'] +\n",
    "                                        df['Simulated Discount Amount'])\n",
    "\n",
    "df['Simulated Profit'] = (df['Simulated Commission Fee'] -\n",
    "                                   df['Simulated Total Costs'])\n",
    "\n"
   ]
  },
  {
   "cell_type": "markdown",
   "id": "aae573a1",
   "metadata": {},
   "source": [
    "### Comparing Results"
   ]
  },
  {
   "cell_type": "code",
   "execution_count": 186,
   "id": "2c7eced9",
   "metadata": {},
   "outputs": [
    {
     "data": {
      "image/png": "[encoded data removed]",
      "text/plain": [
       "<Figure size 1008x504 with 1 Axes>"
      ]
     },
     "metadata": {
      "needs_background": "light"
     },
     "output_type": "display_data"
    }
   ],
   "source": [
    "import seaborn as sns\n",
    "\n",
    "plt.figure(figsize=(14, 7))\n",
    "\n",
    "# actual profitability\n",
    "sns.kdeplot(df['Profit'], label='Actual Profitability', fill=True, alpha=0.5, linewidth=2)\n",
    "\n",
    "# simulated profitability\n",
    "sns.kdeplot(df['Simulated Profit'], label='Estimated Profitability with Recommended Rates', fill=True, alpha=0.5, linewidth=2)\n",
    "\n",
    "plt.title('Comparison of Profitability in Food Delivery: Actual vs. Recommended Discounts and Commissions')\n",
    "plt.xlabel('Profit')\n",
    "plt.ylabel('Density')\n",
    "plt.legend(loc='upper left')\n",
    "plt.show()"
   ]
  },
  {
   "cell_type": "markdown",
   "id": "826a988a",
   "metadata": {},
   "source": [
    "The visualization contrasts the profitability distribution per order between actual discounts and commissions and a simulated scenario featuring recommended discounts (6%) and commissions (30%).\n",
    "\n",
    "In the actual profitability distribution, we observe a varied mix, with a notable portion of orders yielding losses (profit < 0) and a wide range of profit levels across orders. Conversely, the simulated scenario suggests a shift towards enhanced profitability per order. Here, the distribution skews more towards positive profit, indicating that the recommended adjustments could potentially increase the proportion of profitable orders."
   ]
  }
 ],
 "metadata": {
  "kernelspec": {
   "display_name": "Python 3 (ipykernel)",
   "language": "python",
   "name": "python3"
  },
  "language_info": {
   "codemirror_mode": {
    "name": "ipython",
    "version": 3
   },
   "file_extension": ".py",
   "mimetype": "text/x-python",
   "name": "python",
   "nbconvert_exporter": "python",
   "pygments_lexer": "ipython3",
   "version": "3.9.6"
  }
 },
 "nbformat": 4,
 "nbformat_minor": 5
}
